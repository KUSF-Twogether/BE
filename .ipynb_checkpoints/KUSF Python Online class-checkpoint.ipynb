{
 "cells": [
  {
   "cell_type": "markdown",
   "id": "8a6af101",
   "metadata": {},
   "source": [
    "## 파이썬 기초"
   ]
  },
  {
   "cell_type": "code",
   "execution_count": 2,
   "id": "f3f51e5e",
   "metadata": {},
   "outputs": [
    {
     "name": "stdout",
     "output_type": "stream",
     "text": [
      "제 이름은 김태우이고, 나이는 24입니다.\n"
     ]
    }
   ],
   "source": [
    "name = \"김태우\"\n",
    "age = 24\n",
    "\n",
    "print(f\"제 이름은 {name}이고, 나이는 {age}입니다.\")"
   ]
  },
  {
   "cell_type": "code",
   "execution_count": 3,
   "id": "e40cc3d2",
   "metadata": {},
   "outputs": [
    {
     "name": "stdout",
     "output_type": "stream",
     "text": [
      "3\n"
     ]
    }
   ],
   "source": [
    "a = \"banana\"\n",
    "\n",
    "print(a.count(\"a\"))"
   ]
  },
  {
   "cell_type": "code",
   "execution_count": 4,
   "id": "cec8664d",
   "metadata": {},
   "outputs": [
    {
     "name": "stdout",
     "output_type": "stream",
     "text": [
      "2\n"
     ]
    }
   ],
   "source": [
    "print(a.count(\"n\"))"
   ]
  },
  {
   "cell_type": "code",
   "execution_count": 5,
   "id": "b4d8f3ce",
   "metadata": {},
   "outputs": [
    {
     "name": "stdout",
     "output_type": "stream",
     "text": [
      "1\n"
     ]
    }
   ],
   "source": [
    "print(a.count(a))"
   ]
  },
  {
   "cell_type": "code",
   "execution_count": 6,
   "id": "8a5f42e9",
   "metadata": {},
   "outputs": [
    {
     "data": {
      "text/plain": [
       "6"
      ]
     },
     "execution_count": 6,
     "metadata": {},
     "output_type": "execute_result"
    }
   ],
   "source": [
    "len(a)"
   ]
  },
  {
   "cell_type": "code",
   "execution_count": 7,
   "id": "323cb268",
   "metadata": {},
   "outputs": [
    {
     "name": "stdout",
     "output_type": "stream",
     "text": [
      "['__abs__', '__add__', '__and__', '__bool__', '__ceil__', '__class__', '__delattr__', '__dir__', '__divmod__', '__doc__', '__eq__', '__float__', '__floor__', '__floordiv__', '__format__', '__ge__', '__getattribute__', '__getnewargs__', '__gt__', '__hash__', '__index__', '__init__', '__init_subclass__', '__int__', '__invert__', '__le__', '__lshift__', '__lt__', '__mod__', '__mul__', '__ne__', '__neg__', '__new__', '__or__', '__pos__', '__pow__', '__radd__', '__rand__', '__rdivmod__', '__reduce__', '__reduce_ex__', '__repr__', '__rfloordiv__', '__rlshift__', '__rmod__', '__rmul__', '__ror__', '__round__', '__rpow__', '__rrshift__', '__rshift__', '__rsub__', '__rtruediv__', '__rxor__', '__setattr__', '__sizeof__', '__str__', '__sub__', '__subclasshook__', '__truediv__', '__trunc__', '__xor__', 'as_integer_ratio', 'bit_length', 'conjugate', 'denominator', 'from_bytes', 'imag', 'numerator', 'real', 'to_bytes']\n"
     ]
    }
   ],
   "source": [
    "age = 24\n",
    "print(dir(age))"
   ]
  },
  {
   "cell_type": "code",
   "execution_count": 8,
   "id": "fde9f415",
   "metadata": {},
   "outputs": [
    {
     "name": "stdout",
     "output_type": "stream",
     "text": [
      "['__add__', '__class__', '__contains__', '__delattr__', '__dir__', '__doc__', '__eq__', '__format__', '__ge__', '__getattribute__', '__getitem__', '__getnewargs__', '__gt__', '__hash__', '__init__', '__init_subclass__', '__iter__', '__le__', '__len__', '__lt__', '__mod__', '__mul__', '__ne__', '__new__', '__reduce__', '__reduce_ex__', '__repr__', '__rmod__', '__rmul__', '__setattr__', '__sizeof__', '__str__', '__subclasshook__', 'capitalize', 'casefold', 'center', 'count', 'encode', 'endswith', 'expandtabs', 'find', 'format', 'format_map', 'index', 'isalnum', 'isalpha', 'isascii', 'isdecimal', 'isdigit', 'isidentifier', 'islower', 'isnumeric', 'isprintable', 'isspace', 'istitle', 'isupper', 'join', 'ljust', 'lower', 'lstrip', 'maketrans', 'partition', 'removeprefix', 'removesuffix', 'replace', 'rfind', 'rindex', 'rjust', 'rpartition', 'rsplit', 'rstrip', 'split', 'splitlines', 'startswith', 'strip', 'swapcase', 'title', 'translate', 'upper', 'zfill']\n",
      "I am a boy\n"
     ]
    }
   ],
   "source": [
    "a = \"i Am a boY\"\n",
    "\n",
    "print(dir(a))\n",
    "\n",
    "print(a.capitalize())"
   ]
  },
  {
   "cell_type": "code",
   "execution_count": 9,
   "id": "aba3a521",
   "metadata": {},
   "outputs": [
    {
     "name": "stdout",
     "output_type": "stream",
     "text": [
      "몇 월인지 입력하세요>>3\n",
      "봄\n"
     ]
    }
   ],
   "source": [
    "month = int(input(\"몇 월인지 입력하세요>>\"))\n",
    "\n",
    "if month == 3 or month == 4 or month == 5 :\n",
    "    print(\"봄\")\n",
    "elif month == 6 or month == 7 or month == 8 :\n",
    "    print(\"여름\")\n",
    "elif month == 9 or month == 10 or month == 11 :\n",
    "    print(\"가을\")\n",
    "elif month == 12 or month == 1 or month == 2 :           \n",
    "    print(\"겨울\")\n",
    "else:\n",
    "    print(\"잘못된 입력\")"
   ]
  },
  {
   "cell_type": "code",
   "execution_count": 10,
   "id": "37fb6e1e",
   "metadata": {},
   "outputs": [
    {
     "name": "stdout",
     "output_type": "stream",
     "text": [
      "0 banana\n",
      "1 apple\n",
      "2 cherry\n"
     ]
    }
   ],
   "source": [
    "fruit = ['banana', 'apple', 'cherry']\n",
    "\n",
    "for idx, item in enumerate(fruit):\n",
    "    print(idx, item)"
   ]
  },
  {
   "cell_type": "code",
   "execution_count": 11,
   "id": "dd20a2f6",
   "metadata": {},
   "outputs": [
    {
     "name": "stdout",
     "output_type": "stream",
     "text": [
      "banana 심교훈\n",
      "apple 도준혁\n",
      "cherry 박수호\n"
     ]
    }
   ],
   "source": [
    "fruit = ['banana', 'apple', 'cherry']\n",
    "name = ['심교훈', '도준혁', '박수호']\n",
    "\n",
    "for item1, item2 in zip(fruit, name):\n",
    "    print(item1, item2)"
   ]
  },
  {
   "cell_type": "code",
   "execution_count": null,
   "id": "30d7b622",
   "metadata": {},
   "outputs": [],
   "source": [
    "score = 0\n",
    "while True :\n",
    "    \n",
    "    order = input(\"실행할 명령번호를 입력하시오.\")\n",
    "\n",
    "    if order == \"1\" :\n",
    "        print(\"먹이를 줍니다\")\n",
    "        score += 5\n",
    "    elif order == \"2\" :\n",
    "        print(\"놀아 줍니다\")\n",
    "        score += 7\n",
    "    elif order == \"3\" :\n",
    "        print(\"산책을 시킵니다\")\n",
    "        score += 10\n",
    "    elif order == \"4\" :\n",
    "        print(\"목욕을 시킵니다\")\n",
    "        score += 3\n",
    "    elif order == \"q\" :\n",
    "        print(f'강아지의 현재 행복지수는 {score}점입니다.')\n",
    "        break"
   ]
  },
  {
   "cell_type": "code",
   "execution_count": null,
   "id": "2320b1ca",
   "metadata": {},
   "outputs": [],
   "source": [
    "def hello(A : str, B : str) -> None:\n",
    "    '''A가 B에게 인사를 하는 함수 만들기\n",
    "    \n",
    "    Args:\n",
    "        A(str) : 인사를 건네는 사람\n",
    "        B(str) : 인사를 받는 사람\n",
    "        '''\n",
    "    print(f\"{A}가 {B}에게 인사를 합니다.\")"
   ]
  },
  {
   "cell_type": "code",
   "execution_count": null,
   "id": "a8b3bb37",
   "metadata": {},
   "outputs": [],
   "source": []
  }
 ],
 "metadata": {
  "kernelspec": {
   "display_name": "Python 3 (ipykernel)",
   "language": "python",
   "name": "python3"
  },
  "language_info": {
   "codemirror_mode": {
    "name": "ipython",
    "version": 3
   },
   "file_extension": ".py",
   "mimetype": "text/x-python",
   "name": "python",
   "nbconvert_exporter": "python",
   "pygments_lexer": "ipython3",
   "version": "3.9.13"
  }
 },
 "nbformat": 4,
 "nbformat_minor": 5
}
